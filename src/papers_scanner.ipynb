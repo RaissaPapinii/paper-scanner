{
 "cells": [
  {
   "cell_type": "code",
   "execution_count": 1,
   "id": "092b3f6c",
   "metadata": {},
   "outputs": [],
   "source": [
    "import pandas as pd\n",
    "import fitz\n",
    "import re"
   ]
  },
  {
   "cell_type": "code",
   "execution_count": 2,
   "id": "b5d273ad",
   "metadata": {},
   "outputs": [],
   "source": [
    "doc=fitz.open('../papers/Designing of A Based Route Recommendation Service for Multimodal Transportation System in Smart Cities.pdf')"
   ]
  },
  {
   "cell_type": "markdown",
   "id": "ae6daf57",
   "metadata": {},
   "source": [
    "### Finding paper title and authors"
   ]
  },
  {
   "cell_type": "code",
   "execution_count": 101,
   "id": "64287d37",
   "metadata": {},
   "outputs": [],
   "source": [
    "def get_header(page):\n",
    "    header = {}\n",
    "    for block in page['blocks']:\n",
    "        try:\n",
    "            for line in block['lines']:\n",
    "                for span in line['spans']:\n",
    "                    line_text = span['text'].replace('\\xa0', ' ')\n",
    "                    if 'abstract' in line_text.lower():\n",
    "                        return header\n",
    "                    if (len(line_text)>5) and ('bold' in span['font'].lower()):\n",
    "                        header[line_text] = float(span['size'])\n",
    "        except:\n",
    "            pass\n",
    "        \n",
    "def clean_header(title, header):\n",
    "    to_drop = list(header.keys())\n",
    "    to_drop = to_drop[:to_drop.index(title[-1])+1]\n",
    "    for t in to_drop:\n",
    "        del header[t]\n",
    "        \n",
    "def get_title(header):\n",
    "    title = sorted(header, key=lambda key: header[key], reverse=True)[:4]\n",
    "    title = [txt for txt in title if header[txt]==header[title[0]]]\n",
    "    clean_header(title, header)\n",
    "    title = ''.join(title).strip()\n",
    "    return title.title()\n",
    "\n",
    "def get_authors(header):\n",
    "    authors_font_size = list(header.values())[0]\n",
    "    clean_author = lambda author: re.sub(r'[^A-Za-z\\s]', '', author).strip().title()\n",
    "    authors = [clean_author(txt) for txt in header.keys() if header[txt]==authors_font_size]\n",
    "    return authors\n",
    "\n",
    "def get_info(doc):\n",
    "    first_page = doc[0].get_text('dict')\n",
    "    header = get_header(first_page)\n",
    "    title = get_title(header)\n",
    "    authors = get_authors(header)\n",
    "    return title, authors"
   ]
  },
  {
   "cell_type": "code",
   "execution_count": 102,
   "id": "24f7f0d1",
   "metadata": {},
   "outputs": [
    {
     "name": "stdout",
     "output_type": "stream",
     "text": [
      "Title: Designing Of A* Based Route Recommendation Service For Multimodal Transportation System In Smart Cities\n",
      "Authors: ['Md Ashifuddin Mondal', 'Zeenat Rehena']\n"
     ]
    }
   ],
   "source": [
    "title, authors = get_info(doc)\n",
    "print('Title:', title)\n",
    "print('Authors:', authors)"
   ]
  },
  {
   "cell_type": "markdown",
   "id": "baeddd6a",
   "metadata": {},
   "source": [
    "### Find references"
   ]
  },
  {
   "cell_type": "code",
   "execution_count": 97,
   "id": "f78f8a28",
   "metadata": {},
   "outputs": [],
   "source": [
    "def correct_name(match, text):\n",
    "    ref_title = text[match.start(): match.end()].replace('.', '').strip()\n",
    "    ref_title = ref_title.replace('\\xa0 ',' ').replace('\\xa0','')\n",
    "    return ref_title.capitalize()\n",
    "\n",
    "def get_references(doc):\n",
    "    found_references=False\n",
    "    pattern = r'(?<=\\(\\d\\d\\d\\d\\)).*?(?=\\.|\\n)'\n",
    "    references=[]\n",
    "    for i, page in enumerate(doc):\n",
    "        text = page.get_text().replace(' \\n', ' ').replace('-\\n', '')\n",
    "        if (\"References\\n\" in text) or found_references:\n",
    "            if (\"References\\n\" in text):\n",
    "                ini = text.find(\"References\\n\")\n",
    "                text = text[ini+11:]\n",
    "            found_references=True\n",
    "            citations = re.finditer(pattern, text)\n",
    "            citations = [correct_name(match, text) for match in citations if len(correct_name(match, text))!=0]\n",
    "            references+=citations\n",
    "    return references"
   ]
  },
  {
   "cell_type": "code",
   "execution_count": 98,
   "id": "4ab6fcb5",
   "metadata": {
    "scrolled": true
   },
   "outputs": [
    {
     "data": {
      "text/plain": [
       "['An algorithmic framework for computing shortest routes in urban multimodal networks with different criteria',\n",
       " 'The project of intellectual multimodal transport system',\n",
       " 'Intelligent traffic congestion classification system using artificial neural network',\n",
       " 'Transfer graph approach for multimodal transport problems',\n",
       " 'Fast routing in very large public transportation networks using transfer patterns',\n",
       " 'Multiple criteria decision analysis: an integrated approach',\n",
       " 'Managing smart-city transportation planning of ‘park-and-ride’ system: case of moscow metropolitan',\n",
       " 'Accelerating multi-modal route planning by access-nodes',\n",
       " 'A multimodal transport network model and efficient algorithms for building advanced traveler information systems',\n",
       " 'User-constrained multimodal route planning',\n",
       " 'Algorithm 97: shortest path',\n",
       " 'Resilience in intelligent transportation systems (its)',\n",
       " 'A distributed approach for shortest path algorithm in dynamic multimodal transportation networks',\n",
       " 'Understanding dijkstra’s algorithm',\n",
       " 'Comparative analysis of algorithms to search for the shortest path in a maze',\n",
       " 'Efficient routing on multi-modal transportation networks',\n",
       " 'A comparative study of a-star algorithms for search and rescue in perfect maze',\n",
       " 'Algorithms of multi-modal route planning based on the concept of switch point',\n",
       " 'Urban transport in india',\n",
       " 'Design of multimodal transport networks : a hierarchical approach',\n",
       " 'Efficient models for timetable information in public transportation systems',\n",
       " 'Integrated multi-modal transportation in india',\n",
       " 'A reference architecture for context-aware intelligent traffic management platforms',\n",
       " 'A simulation tool for bicycle sharing systems in multimodal networks',\n",
       " 'Hierarchical network-based equilibrium model and algorithm for a mixed-traffic urban transport system',\n",
       " 'Integrated multimodal metropolitan transportation model',\n",
       " 'Solving a discrete multimodal transportation network design problem',\n",
       " 'A* algorithm for the timedependent shortest path problem']"
      ]
     },
     "execution_count": 98,
     "metadata": {},
     "output_type": "execute_result"
    }
   ],
   "source": [
    "references = get_references(doc)\n",
    "references"
   ]
  }
 ],
 "metadata": {
  "kernelspec": {
   "display_name": "paper_graph",
   "language": "python",
   "name": "paper_graph"
  },
  "language_info": {
   "codemirror_mode": {
    "name": "ipython",
    "version": 3
   },
   "file_extension": ".py",
   "mimetype": "text/x-python",
   "name": "python",
   "nbconvert_exporter": "python",
   "pygments_lexer": "ipython3",
   "version": "3.9.6"
  }
 },
 "nbformat": 4,
 "nbformat_minor": 5
}
