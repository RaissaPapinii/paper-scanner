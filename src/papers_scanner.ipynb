{
 "cells": [
  {
   "cell_type": "code",
   "execution_count": 1,
   "id": "092b3f6c",
   "metadata": {},
   "outputs": [],
   "source": [
    "import pandas as pd\n",
    "import fitz\n",
    "import re"
   ]
  },
  {
   "cell_type": "code",
   "execution_count": 2,
   "id": "b5d273ad",
   "metadata": {},
   "outputs": [],
   "source": [
    "doc=fitz.open('../papers/Designing of A Based Route Recommendation Service for Multimodal Transportation System in Smart Cities.pdf')"
   ]
  },
  {
   "cell_type": "code",
   "execution_count": 55,
   "id": "f78f8a28",
   "metadata": {},
   "outputs": [],
   "source": [
    "def correct_name(match):\n",
    "    return text[match.start(): match.end()].replace('.', '').strip()\n",
    "found_references=False\n",
    "pattern = r'(?<=\\(\\d\\d\\d\\d\\)).*?(?=\\.|\\n)'\n",
    "references=[]\n",
    "for i, page in enumerate(doc):\n",
    "    text = page.get_text().replace(' \\n', ' ').replace('-\\n', '')\n",
    "    if (\"References\\n\" in text) or found_references:\n",
    "        if (\"References\\n\" in text):\n",
    "            ini = text.find(\"References\\n\")\n",
    "            text = text[ini+11:]\n",
    "        found_references=True\n",
    "        citations = re.finditer(pattern, text)\n",
    "        citations = [correct_name(match) for match in citations if len(correct_name(match))!=0]\n",
    "        references+=citations"
   ]
  },
  {
   "cell_type": "code",
   "execution_count": 57,
   "id": "4ab6fcb5",
   "metadata": {},
   "outputs": [
    {
     "data": {
      "text/plain": [
       "['An algorithmic framework for computing shortest routes in urban multimodal networks with different criteria',\n",
       " 'The project of intellectual multimodal transport system',\n",
       " 'Intelligent traffic congestion classification system using artificial neural network',\n",
       " 'Transfer graph approach for multimodal transport problems',\n",
       " 'Fast routing in very large public transportation networks using transfer patterns',\n",
       " 'Multiple criteria decision analysis: an integrated approach',\n",
       " 'Managing smart-city transportation planning of ‘park-and-ride’ system: case of moscow metropolitan',\n",
       " 'Accelerating multi-modal route planning by access-nodes',\n",
       " 'A multimodal transport network model and efficient algorithms for building advanced traveler information systems',\n",
       " 'User-constrained multimodal route planning',\n",
       " 'Algorithm\\xa0 97: shortest path',\n",
       " 'Resilience in intelligent transportation systems (its)',\n",
       " 'A distributed approach for shortest path algorithm in dynamic multimodal transportation networks',\n",
       " 'Understanding dijkstra’s algorithm',\n",
       " 'Comparative analysis of algorithms to search for the shortest path in a maze',\n",
       " 'Efficient routing on multi-modal transportation networks',\n",
       " 'A comparative study of a-star algorithms for search and rescue in perfect maze',\n",
       " 'Algorithms of multi-modal route planning based on the concept of switch point',\n",
       " 'Urban transport in india',\n",
       " 'Design of multimodal transport networks : a hierarchical approach',\n",
       " 'Efficient models for timetable information in public transportation systems',\n",
       " 'Integrated multi-modal transportation in India',\n",
       " 'A reference architecture for context-aware intelligent traffic management platforms',\n",
       " 'A simulation tool for bicycle sharing systems in multimodal networks',\n",
       " 'Hierarchical network-based equilibrium model and algorithm for a mixed-traffic urban transport system',\n",
       " 'Integrated multimodal metropolitan transportation model',\n",
       " 'Solving a discrete multimodal transportation network design problem',\n",
       " 'A* algorithm for the timedependent shortest path problem']"
      ]
     },
     "execution_count": 57,
     "metadata": {},
     "output_type": "execute_result"
    }
   ],
   "source": [
    "references"
   ]
  }
 ],
 "metadata": {
  "kernelspec": {
   "display_name": "paper_graph",
   "language": "python",
   "name": "paper_graph"
  },
  "language_info": {
   "codemirror_mode": {
    "name": "ipython",
    "version": 3
   },
   "file_extension": ".py",
   "mimetype": "text/x-python",
   "name": "python",
   "nbconvert_exporter": "python",
   "pygments_lexer": "ipython3",
   "version": "3.9.6"
  }
 },
 "nbformat": 4,
 "nbformat_minor": 5
}
